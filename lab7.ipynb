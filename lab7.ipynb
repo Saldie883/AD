{
  "nbformat": 4,
  "nbformat_minor": 0,
  "metadata": {
    "colab": {
      "name": "lab7.ipynb",
      "provenance": [],
      "collapsed_sections": []
    },
    "kernelspec": {
      "name": "python3",
      "display_name": "Python 3"
    }
  },
  "cells": [
    {
      "cell_type": "code",
      "metadata": {
        "colab": {
          "base_uri": "https://localhost:8080/"
        },
        "id": "KzKLDy3X_4J1",
        "outputId": "c7c318e2-41e9-4e26-dd93-1c5abd4fa3a7"
      },
      "source": [
        "!pip install fuzzy"
      ],
      "execution_count": 17,
      "outputs": [
        {
          "output_type": "stream",
          "text": [
            "Requirement already satisfied: fuzzy in /usr/local/lib/python3.6/dist-packages (1.2.2)\n"
          ],
          "name": "stdout"
        }
      ]
    },
    {
      "cell_type": "code",
      "metadata": {
        "id": "BeWvlTj6CXHj"
      },
      "source": [
        "from fuzzy import *\n",
        "import matplotlib.pyplot as plt\n",
        "import pandas as pd\n",
        "import math\n",
        "import random\n",
        "import numpy as np\n"
      ],
      "execution_count": 18,
      "outputs": []
    },
    {
      "cell_type": "markdown",
      "metadata": {
        "id": "tUGmM0wbGBgl"
      },
      "source": [
        ""
      ]
    },
    {
      "cell_type": "code",
      "metadata": {
        "id": "NaYf6wZAClgi"
      },
      "source": [
        "df = pd.read_csv('iris.data', header=None, names=['sepal length', 'sepal width', 'petal length', 'petal width', 'class'])\n",
        "\n",
        "df = df[~(df['class']=='Iris-virginica')]\n",
        "\n",
        "df.head()\n",
        "\n",
        "df.replace(to_replace='Iris-setosa', value=0, inplace=True)\n",
        "\n",
        "df.replace(to_replace='Iris-versicolor', value=1, inplace=True)\n",
        "\n",
        "df = df.sample(frac=1)\n",
        "\n",
        "X_train = df[['sepal length', 'petal length']].values\n",
        "Y_train = df['class'].values\n",
        "\n",
        "_max = np.max(X_train, axis=0)\n",
        "_min = np.min(X_train, axis=0)\n",
        "X_train = (X_train - _min) / (_max - _min)\n",
        "\n",
        "X_test, Y_test = X_train[-20:], Y_train[-20:]\n",
        "X_train, Y_train = X_train[:-20], Y_train[:-20]"
      ],
      "execution_count": 19,
      "outputs": []
    },
    {
      "cell_type": "code",
      "metadata": {
        "colab": {
          "base_uri": "https://localhost:8080/",
          "height": 402
        },
        "id": "BDB6LQ1F8b0c",
        "outputId": "666d2db3-330e-499a-9a32-d11ce39d22b8"
      },
      "source": [
        "df"
      ],
      "execution_count": 20,
      "outputs": [
        {
          "output_type": "execute_result",
          "data": {
            "text/html": [
              "<div>\n",
              "<style scoped>\n",
              "    .dataframe tbody tr th:only-of-type {\n",
              "        vertical-align: middle;\n",
              "    }\n",
              "\n",
              "    .dataframe tbody tr th {\n",
              "        vertical-align: top;\n",
              "    }\n",
              "\n",
              "    .dataframe thead th {\n",
              "        text-align: right;\n",
              "    }\n",
              "</style>\n",
              "<table border=\"1\" class=\"dataframe\">\n",
              "  <thead>\n",
              "    <tr style=\"text-align: right;\">\n",
              "      <th></th>\n",
              "      <th>sepal length</th>\n",
              "      <th>sepal width</th>\n",
              "      <th>petal length</th>\n",
              "      <th>petal width</th>\n",
              "      <th>class</th>\n",
              "    </tr>\n",
              "  </thead>\n",
              "  <tbody>\n",
              "    <tr>\n",
              "      <th>20</th>\n",
              "      <td>5.4</td>\n",
              "      <td>3.4</td>\n",
              "      <td>1.7</td>\n",
              "      <td>0.2</td>\n",
              "      <td>0</td>\n",
              "    </tr>\n",
              "    <tr>\n",
              "      <th>95</th>\n",
              "      <td>5.7</td>\n",
              "      <td>3.0</td>\n",
              "      <td>4.2</td>\n",
              "      <td>1.2</td>\n",
              "      <td>1</td>\n",
              "    </tr>\n",
              "    <tr>\n",
              "      <th>82</th>\n",
              "      <td>5.8</td>\n",
              "      <td>2.7</td>\n",
              "      <td>3.9</td>\n",
              "      <td>1.2</td>\n",
              "      <td>1</td>\n",
              "    </tr>\n",
              "    <tr>\n",
              "      <th>49</th>\n",
              "      <td>5.0</td>\n",
              "      <td>3.3</td>\n",
              "      <td>1.4</td>\n",
              "      <td>0.2</td>\n",
              "      <td>0</td>\n",
              "    </tr>\n",
              "    <tr>\n",
              "      <th>80</th>\n",
              "      <td>5.5</td>\n",
              "      <td>2.4</td>\n",
              "      <td>3.8</td>\n",
              "      <td>1.1</td>\n",
              "      <td>1</td>\n",
              "    </tr>\n",
              "    <tr>\n",
              "      <th>...</th>\n",
              "      <td>...</td>\n",
              "      <td>...</td>\n",
              "      <td>...</td>\n",
              "      <td>...</td>\n",
              "      <td>...</td>\n",
              "    </tr>\n",
              "    <tr>\n",
              "      <th>75</th>\n",
              "      <td>6.6</td>\n",
              "      <td>3.0</td>\n",
              "      <td>4.4</td>\n",
              "      <td>1.4</td>\n",
              "      <td>1</td>\n",
              "    </tr>\n",
              "    <tr>\n",
              "      <th>91</th>\n",
              "      <td>6.1</td>\n",
              "      <td>3.0</td>\n",
              "      <td>4.6</td>\n",
              "      <td>1.4</td>\n",
              "      <td>1</td>\n",
              "    </tr>\n",
              "    <tr>\n",
              "      <th>38</th>\n",
              "      <td>4.4</td>\n",
              "      <td>3.0</td>\n",
              "      <td>1.3</td>\n",
              "      <td>0.2</td>\n",
              "      <td>0</td>\n",
              "    </tr>\n",
              "    <tr>\n",
              "      <th>79</th>\n",
              "      <td>5.7</td>\n",
              "      <td>2.6</td>\n",
              "      <td>3.5</td>\n",
              "      <td>1.0</td>\n",
              "      <td>1</td>\n",
              "    </tr>\n",
              "    <tr>\n",
              "      <th>76</th>\n",
              "      <td>6.8</td>\n",
              "      <td>2.8</td>\n",
              "      <td>4.8</td>\n",
              "      <td>1.4</td>\n",
              "      <td>1</td>\n",
              "    </tr>\n",
              "  </tbody>\n",
              "</table>\n",
              "<p>100 rows × 5 columns</p>\n",
              "</div>"
            ],
            "text/plain": [
              "    sepal length  sepal width  petal length  petal width  class\n",
              "20           5.4          3.4           1.7          0.2      0\n",
              "95           5.7          3.0           4.2          1.2      1\n",
              "82           5.8          2.7           3.9          1.2      1\n",
              "49           5.0          3.3           1.4          0.2      0\n",
              "80           5.5          2.4           3.8          1.1      1\n",
              "..           ...          ...           ...          ...    ...\n",
              "75           6.6          3.0           4.4          1.4      1\n",
              "91           6.1          3.0           4.6          1.4      1\n",
              "38           4.4          3.0           1.3          0.2      0\n",
              "79           5.7          2.6           3.5          1.0      1\n",
              "76           6.8          2.8           4.8          1.4      1\n",
              "\n",
              "[100 rows x 5 columns]"
            ]
          },
          "metadata": {
            "tags": []
          },
          "execution_count": 20
        }
      ]
    },
    {
      "cell_type": "code",
      "metadata": {
        "id": "XgixOd94hriq"
      },
      "source": [
        "class FuzzyMMC:\n",
        "\n",
        "\tdef __init__(self, sensitivity=1, exp_bound=1, animate=False):\n",
        "\t\tself.sensitivity = sensitivity\n",
        "\t\tself.hyperboxes = None\n",
        "\t\tself.isanimate = animate\n",
        "\t\tself.classes = np.array([])\n",
        "\t\tself.exp_bound = exp_bound\n",
        "\n",
        "\t\tif self.animate:\n",
        "\t\t\tself.box_history = []\n",
        "\t\t\tself.train_patterns = []\n",
        "\n",
        "\n",
        "\tdef membership(self, pattern):\n",
        "\t\tmin_pts = self.hyperboxes[:, 0, :]\n",
        "\t\tmax_pts = self.hyperboxes[:, 1, :]\n",
        "\t\t\n",
        "\t\ta = np.maximum(0, (1 - np.maximum(0, (self.sensitivity * np.minimum(1, pattern - max_pts)))))\n",
        "\t\tb = np.maximum(0, (1 - np.maximum(0, (self.sensitivity * np.minimum(1, min_pts - pattern)))))\n",
        "\n",
        "\t\treturn np.sum(a + b, axis=1) / (2 * len(pattern))\n",
        "\n",
        "\n",
        "\tdef overlap_contract(self, index):\n",
        "\t\tcontracted = False\n",
        "\t\tfor test_box in range(len(self.hyperboxes)):\n",
        "\n",
        "\t\t\tif self.classes[test_box] == self.classes[index]:\n",
        "\t\t\t\t# Ignore same class hyperbox overlap\n",
        "\t\t\t\tcontinue\n",
        "\t\n",
        "\t\t\texpanded_box = self.hyperboxes[index]\n",
        "\t\t\tbox = self.hyperboxes[test_box]\n",
        "\n",
        "\t\t\t## TODO: Refactor for vectorization\n",
        "\t\t\tvj, wj = expanded_box\n",
        "\t\t\tvk, wk = box\n",
        "\n",
        "\t\t\tdelta_new = delta_old = 1\n",
        "\t\t\tmin_overlap_index = -1\n",
        "\t\t\tfor i in range(len(vj)):\n",
        "\t\t\t\tif vj[i] < vk[i] < wj[i] < wk[i]:\n",
        "\t\t\t\t\tdelta_new = min(delta_old, wj[i] - vk[i])\n",
        "\n",
        "\t\t\t\telif vk[i] < vj[i] < wk[i] < wj[i]:\n",
        "\t\t\t\t\tdelta_new = min(delta_old, wk[i] - vj[i])\n",
        "\n",
        "\t\t\t\telif vj[i] < vk[i] < wk[i] < wj[i]:\n",
        "\t\t\t\t\tdelta_new = min(delta_old, min(wj[i] - vk[i], wk[i] - vj[i]))\n",
        "\n",
        "\t\t\t\telif vk[i] < vj[i] < wj[i] < wk[i]:\n",
        "\t\t\t\t\tdelta_new = min(delta_old, min(wj[i] - vk[i], wk[i] - vj[i]))\n",
        "\n",
        "\t\t\t\tif delta_old - delta_new > 0:\n",
        "\t\t\t\t\tmin_overlap_index = i\n",
        "\t\t\t\t\tdelta_old = delta_new\n",
        "\n",
        "\t\t\tif min_overlap_index >= 0:\n",
        "\t\t\t\ti = min_overlap_index\n",
        "\t\t\t\t# We need to contract the expanded box\n",
        "\t\t\t\tif vj[i] < vk[i] < wj[i] < wk[i]:\n",
        "\t\t\t\t\tvk[i] = wj[i] = (vk[i] + wj[i])/2\n",
        "\n",
        "\t\t\t\telif vk[i] < vj[i] < wk[i] < wj[i]:\n",
        "\t\t\t\t\tvj[i] = wk[i] = (vj[i] + wk[i])/2\n",
        "\n",
        "\t\t\t\telif vj[i] < vk[i] < wk[i] < wj[i]:\n",
        "\t\t\t\t\tif (wj[i] - vk[i]) > (wk[i] - vj[i]):\n",
        "\t\t\t\t\t\tvj[i] = wk[i]\n",
        "\n",
        "\t\t\t\t\telse:\n",
        "\t\t\t\t\t\twj[i] = vk[i]\n",
        "\n",
        "\t\t\t\telif vk[i] < vj[i] < wj[i] < wk[i]:\n",
        "\t\t\t\t\tif (wk[i] - vj[i]) > (wj[i] - vk[i]):\n",
        "\t\t\t\t\t\tvk[i] = wj[i]\n",
        "\n",
        "\t\t\t\t\telse:\n",
        "\t\t\t\t\t\twk[i] = vj[i]\n",
        "\n",
        "\t\t\t\tself.hyperboxes[test_box] = np.array([vk, wk])\n",
        "\t\t\t\tself.hyperboxes[index] = np.array([vj, wj])\n",
        "\t\t\t\tcontracted = True\n",
        "\n",
        "\t\treturn contracted\n",
        "\n",
        "\n",
        "\n",
        "\tdef train_pattern(self, X, Y):\n",
        "\t\ttarget = Y\n",
        "\t\t\n",
        "\t\tif target not in self.classes:\n",
        "\t\t\t\n",
        "\t\t\t# Create a new hyberbox\n",
        "\t\t\tif self.hyperboxes is not None:\n",
        "\t\t\t\tself.hyperboxes = np.vstack((self.hyperboxes, np.array([[X, X]])))\n",
        "\t\t\t\tself.classes = np.hstack((self.classes, np.array([target])))\n",
        "\n",
        "\t\t\telse:\n",
        "\t\t\t\tself.hyperboxes = np.array([[X, X]])\n",
        "\t\t\t\tself.classes = np.array([target])\n",
        "\n",
        "\t\t\tif self.isanimate:\n",
        "\t\t\t\tself.box_history.append(np.copy(self.hyperboxes))\n",
        "\t\t\t\tself.train_patterns.append((X, Y))\n",
        "\t\telse:\n",
        "\t\t\t\n",
        "\t\t\tmemberships = self.membership(X)\n",
        "\t\t\tmemberships[np.where(self.classes != target)] = 0\n",
        "\t\t\tmemberships = sorted(list(enumerate(memberships)), key=lambda x: x[1], reverse=True)\n",
        "\t\t\t\n",
        "\t\t\t# Expand the most suitable hyperbox\n",
        "\t\t\tcount = 0\n",
        "\t\t\twhile True:\n",
        "\t\t\t\tindex = memberships[count][0]\n",
        "\t\t\t\tmin_new = np.minimum(self.hyperboxes[index, 0, :], X)\n",
        "\t\t\t\tmax_new = np.maximum(self.hyperboxes[index, 1, :], X)\n",
        "\t\t\t\t\n",
        "\t\t\t\tif self.exp_bound * len(np.unique(self.classes)) >= np.sum(max_new - min_new):\n",
        "\t\t\t\t\tself.hyperboxes[index, 0] = min_new\n",
        "\t\t\t\t\tself.hyperboxes[index, 1] = max_new\n",
        "\t\t\t\t\tbreak\n",
        "\t\t\t\telse:\n",
        "\t\t\t\t\tcount += 1\n",
        "\n",
        "\t\t\t\tif count == len(memberships):\n",
        "\t\t\t\t\tself.hyperboxes = np.vstack((self.hyperboxes, np.array([[X, X]])))\n",
        "\t\t\t\t\tself.classes = np.hstack((self.classes, np.array([target])))\n",
        "\t\t\t\t\tindex = len(self.hyperboxes) - 1\n",
        "\t\t\t\t\tbreak\n",
        "\n",
        "\t\t\t# Overlap test\n",
        "\t\t\tif self.isanimate:\n",
        "\t\t\t\tself.box_history.append(np.copy(self.hyperboxes))\n",
        "\t\t\t\tself.train_patterns.append((X, Y))\n",
        "\n",
        "\t\t\tcontracted = self.overlap_contract(index)\n",
        "\t\t\t\n",
        "\t\t\tif self.isanimate and contracted:\t\n",
        "\t\t\t\tself.box_history.append(np.copy(self.hyperboxes))\n",
        "\t\t\t\tself.train_patterns.append((X, Y))\n",
        "\n",
        "\n",
        "\tdef fit(self, X, Y):\n",
        "\t\t'''\n",
        "\t\tWrapper for train_pattern\n",
        "\t\t'''\n",
        "\t\tfor x, y in zip(X, Y):\n",
        "\t\t\tself.train_pattern(x, y)\n",
        "\n",
        "\n",
        "\tdef predict(self, X):\n",
        "\t\t'''\n",
        "\t\tPredict the class of the pattern X\n",
        "\t\t'''\n",
        "\t\tclasses = np.unique(self.classes)\n",
        "\t\tresults = []\n",
        "\t\tmemberships = self.membership(X)\n",
        "\t\tmax_prediction = 0\n",
        "\t\tpred_class = 0\n",
        "\t\tfor _class in classes:\n",
        "\t\t\tmask = np.zeros((len(self.hyperboxes),))\n",
        "\t\t\tmask[np.where(self.classes == _class)] = 1\n",
        "\t\t\tp = memberships * mask\n",
        "\t\t\tprediction, class_index = np.max(p), np.argmax(p)\n",
        "\t\t\tif prediction > max_prediction:\n",
        "\t\t\t\tmax_prediction = prediction\n",
        "\t\t\t\tpred_class = class_index\n",
        "\n",
        "\t\treturn max_prediction, self.classes[pred_class] \n",
        "\n",
        "\n",
        "\tdef score(self, X, Y):\n",
        "\t\t'''\n",
        "\t\tScores the classifier\n",
        "\t\t'''\n",
        "\t\tcount = 0\n",
        "\t\tfor x, y in zip(X, Y):\n",
        "\t\t\t_, pred = self.predict(x)\n",
        "\t\t\tif y == pred:\n",
        "\t\t\t\tcount += 1\n",
        "\n",
        "\t\treturn count / len(Y)\n",
        "\n",
        "\n",
        "\tdef animate(self, frame_rate=10, filename='', verbose=True):\n",
        "\t\t'''\n",
        "\t\tTo make a video of the classifier training.\n",
        "\t\tNOTE: Only possible when working with 2 dimensional patterns\n",
        "\t\t'''\n",
        "\t\tif self.isanimate:\n",
        "\t\t\tanimator = Animator(box_history=self.box_history,\n",
        "\t\t\t\t\t\t\t\ttrain_patterns=self.train_patterns,\n",
        "\t\t\t\t\t\t\t\tclasses=self.classes,\n",
        "\t\t\t\t\t\t\t\tframe_rate=frame_rate,\n",
        "\t\t\t\t\t\t\t\texp_bound=self.exp_bound,\n",
        "\t\t\t\t\t\t\t\tsensitivity=self.sensitivity,\n",
        "\t\t\t\t\t\t\t\tfilename=filename,\n",
        "\t\t\t\t\t\t\t\tverbose=verbose)\n",
        "\n",
        "\t\t\tanimator.animate()\n",
        "\n",
        "\t\t\treturn animator.filename\n",
        "\n",
        "\t\telse:\n",
        "\t\t\traise Exception('No animation data was collected! Create a fuzzy classifier instance with animate=True')\n"
      ],
      "execution_count": 21,
      "outputs": []
    },
    {
      "cell_type": "code",
      "metadata": {
        "id": "X-IF4Ly5C2oP"
      },
      "source": [
        "model = FuzzyMMC(sensitivity=0.2, exp_bound=0.1, animate=True)"
      ],
      "execution_count": 22,
      "outputs": []
    },
    {
      "cell_type": "code",
      "metadata": {
        "id": "nEDdoI9QiBpN"
      },
      "source": [
        "model.fit(X_train, Y_train)"
      ],
      "execution_count": 23,
      "outputs": []
    },
    {
      "cell_type": "code",
      "metadata": {
        "colab": {
          "base_uri": "https://localhost:8080/"
        },
        "id": "Q6vTMfPwiEoh",
        "outputId": "d4a80038-8cfb-4529-8e9e-3a6136f3f5b2"
      },
      "source": [
        "model.score(X_test, Y_test)"
      ],
      "execution_count": 24,
      "outputs": [
        {
          "output_type": "execute_result",
          "data": {
            "text/plain": [
              "1.0"
            ]
          },
          "metadata": {
            "tags": []
          },
          "execution_count": 24
        }
      ]
    },
    {
      "cell_type": "code",
      "metadata": {
        "id": "arfg72ouiMNQ"
      },
      "source": [
        "def rand_uniform(x, y):\n",
        "    return random.random() * (y- x) + x\n",
        "\n",
        "def gen_circle(num_samples):\n",
        "    num_samples = num_samples\n",
        "    radius = 5\n",
        "    points = []\n",
        "    noise = 0.5\n",
        "    \n",
        "    def get_label(x, y):\n",
        "        dist = math.sqrt(x ** 2 + y ** 2)\n",
        "        return 0 if dist < radius * 0.5 else 1\n",
        "    \n",
        "    for i in range(num_samples//2):\n",
        "        r = rand_uniform(0, radius * 0.5)\n",
        "        angle = rand_uniform(0, 2 * math.pi)\n",
        "        x = r * math.sin(angle)\n",
        "        y = r * math.cos(angle)\n",
        "        noiseX = rand_uniform((-1)*radius, radius) * noise\n",
        "        noiseY = rand_uniform((-1)*radius, radius) * noise\n",
        "        #label = get_label(noiseX, noiseY)\n",
        "        label = 0\n",
        "        points.append((x, y, label))\n",
        "    \n",
        "    for i in range(num_samples // 2):\n",
        "        r = rand_uniform(radius * 0.7, radius)\n",
        "        angle = rand_uniform(0, 2 * math.pi)\n",
        "        x = r * math.sin(angle)\n",
        "        y = r * math.cos(angle)\n",
        "        noiseX = rand_uniform((-1)*radius, radius) * noise\n",
        "        noiseY = rand_uniform((-1)*radius, radius) * noise\n",
        "        #label = get_label(noiseX, noiseY)\n",
        "        label = 1\n",
        "        points.append((x, y, label))\n",
        "        \n",
        "    return points"
      ],
      "execution_count": 25,
      "outputs": []
    },
    {
      "cell_type": "code",
      "metadata": {
        "id": "B4lQAIpwiPfO"
      },
      "source": [
        "o = gen_circle(100)\n",
        "o = np.array(o)\n",
        "train = pd.DataFrame(o)"
      ],
      "execution_count": 26,
      "outputs": []
    },
    {
      "cell_type": "code",
      "metadata": {
        "colab": {
          "base_uri": "https://localhost:8080/"
        },
        "id": "xT_Ca5UkiSoV",
        "outputId": "3dbaa4b8-0b50-47a1-e469-25177714b3f3"
      },
      "source": [
        "train_x = []\n",
        "train_y = []\n",
        "np.random.shuffle(o)\n",
        "for i in o:\n",
        "    train_x.append([i[0], i[1]])\n",
        "    train_y.append(i[2])\n",
        "\n",
        "train_x = np.array(train_x)\n",
        "train_y = np.array(train_y)\n",
        "_max = np.max(train_x, axis=0)\n",
        "_min = np.min(train_x, axis=0)\n",
        "train_x = (train_x - _min) / (_max - _min)\n",
        "train_x.shape, train_y.shape"
      ],
      "execution_count": 27,
      "outputs": [
        {
          "output_type": "execute_result",
          "data": {
            "text/plain": [
              "((100, 2), (100,))"
            ]
          },
          "metadata": {
            "tags": []
          },
          "execution_count": 27
        }
      ]
    },
    {
      "cell_type": "code",
      "metadata": {
        "colab": {
          "base_uri": "https://localhost:8080/",
          "height": 269
        },
        "id": "mRpOL7ipiWTJ",
        "outputId": "2f763382-fead-4ebd-bc60-c298fa8814db"
      },
      "source": [
        "for x, y in zip(train_x, train_y):\n",
        "    if y == 0:\n",
        "        plt.scatter(x[0], x[1], c='r', alpha=0.8)\n",
        "    else:\n",
        "        plt.scatter(x[0], x[1], c='b', alpha=0.8)\n",
        "plt.ylim([0, 1])\n",
        "plt.show()"
      ],
      "execution_count": 28,
      "outputs": [
        {
          "output_type": "display_data",
          "data": {
            "image/png": "[encoded data removed]",
            "text/plain": [
              "<Figure size 432x288 with 1 Axes>"
            ]
          },
          "metadata": {
            "tags": [],
            "needs_background": "light"
          }
        }
      ]
    }
  ]
}
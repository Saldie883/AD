{
  "nbformat": 4,
  "nbformat_minor": 0,
  "metadata": {
    "colab": {
      "name": "lab6.ipynb",
      "provenance": [],
      "collapsed_sections": []
    },
    "kernelspec": {
      "name": "python3",
      "display_name": "Python 3"
    }
  },
  "cells": [
    {
      "cell_type": "code",
      "metadata": {
        "id": "hBtOAnCEUytz"
      },
      "source": [
        "import pandas as pd\n",
        "import matplotlib\n",
        "import matplotlib.pyplot as plt\n",
        "matplotlib.style.use('ggplot')\n",
        "%matplotlib inline"
      ],
      "execution_count": null,
      "outputs": []
    },
    {
      "cell_type": "code",
      "metadata": {
        "id": "zHaqUXx4WDQn"
      },
      "source": [
        "initDf = pd.read_excel('data2.xlsx')"
      ],
      "execution_count": null,
      "outputs": []
    },
    {
      "cell_type": "code",
      "metadata": {
        "colab": {
          "base_uri": "https://localhost:8080/",
          "height": 906
        },
        "id": "qB54s1VMWeYN",
        "outputId": "8b3545fb-6cd1-4930-d77b-2a926f1910d6"
      },
      "source": [
        "df = initDf.drop(initDf.columns[[0]], axis='columns')\n",
        "df.head(30)"
      ],
      "execution_count": null,
      "outputs": [
        {
          "output_type": "execute_result",
          "data": {
            "text/html": [
              "<div>\n",
              "<style scoped>\n",
              "    .dataframe tbody tr th:only-of-type {\n",
              "        vertical-align: middle;\n",
              "    }\n",
              "\n",
              "    .dataframe tbody tr th {\n",
              "        vertical-align: top;\n",
              "    }\n",
              "\n",
              "    .dataframe thead th {\n",
              "        text-align: right;\n",
              "    }\n",
              "</style>\n",
              "<table border=\"1\" class=\"dataframe\">\n",
              "  <thead>\n",
              "    <tr style=\"text-align: right;\">\n",
              "      <th></th>\n",
              "      <th>2015-2014</th>\n",
              "      <th>2014-2013</th>\n",
              "    </tr>\n",
              "  </thead>\n",
              "  <tbody>\n",
              "    <tr>\n",
              "      <th>0</th>\n",
              "      <td>85.0</td>\n",
              "      <td>103.3</td>\n",
              "    </tr>\n",
              "    <tr>\n",
              "      <th>1</th>\n",
              "      <td>85.0</td>\n",
              "      <td>95.0</td>\n",
              "    </tr>\n",
              "    <tr>\n",
              "      <th>2</th>\n",
              "      <td>80.1</td>\n",
              "      <td>103.7</td>\n",
              "    </tr>\n",
              "    <tr>\n",
              "      <th>3</th>\n",
              "      <td>29.3</td>\n",
              "      <td>87.8</td>\n",
              "    </tr>\n",
              "    <tr>\n",
              "      <th>4</th>\n",
              "      <td>87.3</td>\n",
              "      <td>101.7</td>\n",
              "    </tr>\n",
              "    <tr>\n",
              "      <th>5</th>\n",
              "      <td>85.5</td>\n",
              "      <td>103.4</td>\n",
              "    </tr>\n",
              "    <tr>\n",
              "      <th>6</th>\n",
              "      <td>82.1</td>\n",
              "      <td>100.8</td>\n",
              "    </tr>\n",
              "    <tr>\n",
              "      <th>7</th>\n",
              "      <td>84.9</td>\n",
              "      <td>101.0</td>\n",
              "    </tr>\n",
              "    <tr>\n",
              "      <th>8</th>\n",
              "      <td>86.6</td>\n",
              "      <td>104.8</td>\n",
              "    </tr>\n",
              "    <tr>\n",
              "      <th>9</th>\n",
              "      <td>83.8</td>\n",
              "      <td>104.6</td>\n",
              "    </tr>\n",
              "    <tr>\n",
              "      <th>10</th>\n",
              "      <td>17.2</td>\n",
              "      <td>80.4</td>\n",
              "    </tr>\n",
              "    <tr>\n",
              "      <th>11</th>\n",
              "      <td>88.3</td>\n",
              "      <td>102.4</td>\n",
              "    </tr>\n",
              "    <tr>\n",
              "      <th>12</th>\n",
              "      <td>78.4</td>\n",
              "      <td>96.3</td>\n",
              "    </tr>\n",
              "    <tr>\n",
              "      <th>13</th>\n",
              "      <td>81.1</td>\n",
              "      <td>101.6</td>\n",
              "    </tr>\n",
              "    <tr>\n",
              "      <th>14</th>\n",
              "      <td>77.6</td>\n",
              "      <td>100.5</td>\n",
              "    </tr>\n",
              "    <tr>\n",
              "      <th>15</th>\n",
              "      <td>86.6</td>\n",
              "      <td>103.0</td>\n",
              "    </tr>\n",
              "    <tr>\n",
              "      <th>16</th>\n",
              "      <td>81.6</td>\n",
              "      <td>103.3</td>\n",
              "    </tr>\n",
              "    <tr>\n",
              "      <th>17</th>\n",
              "      <td>87.4</td>\n",
              "      <td>102.1</td>\n",
              "    </tr>\n",
              "    <tr>\n",
              "      <th>18</th>\n",
              "      <td>83.0</td>\n",
              "      <td>103.0</td>\n",
              "    </tr>\n",
              "    <tr>\n",
              "      <th>19</th>\n",
              "      <td>79.5</td>\n",
              "      <td>103.0</td>\n",
              "    </tr>\n",
              "    <tr>\n",
              "      <th>20</th>\n",
              "      <td>80.7</td>\n",
              "      <td>100.7</td>\n",
              "    </tr>\n",
              "    <tr>\n",
              "      <th>21</th>\n",
              "      <td>86.0</td>\n",
              "      <td>103.3</td>\n",
              "    </tr>\n",
              "    <tr>\n",
              "      <th>22</th>\n",
              "      <td>86.8</td>\n",
              "      <td>103.6</td>\n",
              "    </tr>\n",
              "    <tr>\n",
              "      <th>23</th>\n",
              "      <td>81.6</td>\n",
              "      <td>103.2</td>\n",
              "    </tr>\n",
              "    <tr>\n",
              "      <th>24</th>\n",
              "      <td>86.2</td>\n",
              "      <td>98.7</td>\n",
              "    </tr>\n",
              "    <tr>\n",
              "      <th>25</th>\n",
              "      <td>86.0</td>\n",
              "      <td>103.3</td>\n",
              "    </tr>\n",
              "    <tr>\n",
              "      <th>26</th>\n",
              "      <td>86.8</td>\n",
              "      <td>103.6</td>\n",
              "    </tr>\n",
              "    <tr>\n",
              "      <th>27</th>\n",
              "      <td>81.6</td>\n",
              "      <td>103.2</td>\n",
              "    </tr>\n",
              "    <tr>\n",
              "      <th>28</th>\n",
              "      <td>86.2</td>\n",
              "      <td>98.7</td>\n",
              "    </tr>\n",
              "  </tbody>\n",
              "</table>\n",
              "</div>"
            ],
            "text/plain": [
              "    2015-2014  2014-2013\n",
              "0        85.0      103.3\n",
              "1        85.0       95.0\n",
              "2        80.1      103.7\n",
              "3        29.3       87.8\n",
              "4        87.3      101.7\n",
              "5        85.5      103.4\n",
              "6        82.1      100.8\n",
              "7        84.9      101.0\n",
              "8        86.6      104.8\n",
              "9        83.8      104.6\n",
              "10       17.2       80.4\n",
              "11       88.3      102.4\n",
              "12       78.4       96.3\n",
              "13       81.1      101.6\n",
              "14       77.6      100.5\n",
              "15       86.6      103.0\n",
              "16       81.6      103.3\n",
              "17       87.4      102.1\n",
              "18       83.0      103.0\n",
              "19       79.5      103.0\n",
              "20       80.7      100.7\n",
              "21       86.0      103.3\n",
              "22       86.8      103.6\n",
              "23       81.6      103.2\n",
              "24       86.2       98.7\n",
              "25       86.0      103.3\n",
              "26       86.8      103.6\n",
              "27       81.6      103.2\n",
              "28       86.2       98.7"
            ]
          },
          "metadata": {
            "tags": []
          },
          "execution_count": 41
        }
      ]
    },
    {
      "cell_type": "code",
      "metadata": {
        "id": "eTqZ7X_YVs7k"
      },
      "source": [
        "from sklearn.cluster import KMeans"
      ],
      "execution_count": null,
      "outputs": []
    },
    {
      "cell_type": "code",
      "metadata": {
        "id": "vpSKJ1cZV07Y"
      },
      "source": [
        "model = KMeans(n_clusters=2, random_state=42)"
      ],
      "execution_count": null,
      "outputs": []
    },
    {
      "cell_type": "code",
      "metadata": {
        "colab": {
          "base_uri": "https://localhost:8080/"
        },
        "id": "2AQP_efqWAgi",
        "outputId": "addbeebd-5626-41c9-e806-2d622fc6dc71"
      },
      "source": [
        "model.fit(df)"
      ],
      "execution_count": null,
      "outputs": [
        {
          "output_type": "execute_result",
          "data": {
            "text/plain": [
              "KMeans(algorithm='auto', copy_x=True, init='k-means++', max_iter=300,\n",
              "       n_clusters=2, n_init=10, n_jobs=None, precompute_distances='auto',\n",
              "       random_state=42, tol=0.0001, verbose=0)"
            ]
          },
          "metadata": {
            "tags": []
          },
          "execution_count": 44
        }
      ]
    },
    {
      "cell_type": "code",
      "metadata": {
        "colab": {
          "base_uri": "https://localhost:8080/"
        },
        "id": "2tBYkD8tZhz0",
        "outputId": "3c7bc0cb-dcfc-4f0d-e919-d22c843e7ac4"
      },
      "source": [
        "model.labels_"
      ],
      "execution_count": null,
      "outputs": [
        {
          "output_type": "execute_result",
          "data": {
            "text/plain": [
              "array([0, 0, 0, 1, 0, 0, 0, 0, 0, 0, 1, 0, 0, 0, 0, 0, 0, 0, 0, 0, 0, 0,\n",
              "       0, 0, 0, 0, 0, 0, 0], dtype=int32)"
            ]
          },
          "metadata": {
            "tags": []
          },
          "execution_count": 45
        }
      ]
    },
    {
      "cell_type": "code",
      "metadata": {
        "id": "tFN5lwy1Z2zI"
      },
      "source": [
        "K = range(1, 10)\n",
        "models = [KMeans(n_clusters=k).fit(df) for k in K]\n",
        "dist = [model.inertia_ for model in models]"
      ],
      "execution_count": null,
      "outputs": []
    },
    {
      "cell_type": "code",
      "metadata": {
        "colab": {
          "base_uri": "https://localhost:8080/",
          "height": 299
        },
        "id": "sGp50qtgaJf2",
        "outputId": "ad1559b6-c078-4c3a-b17e-bc276bb61627"
      },
      "source": [
        "plt.plot(K, dist, marker = 'o')\n",
        "plt.xlabel('K')\n",
        "plt.ylabel('Sum of distances')\n",
        "plt.title('The Elbow Method imterpretations of different numbers of Clusters')\n",
        "plt.show()"
      ],
      "execution_count": null,
      "outputs": [
        {
          "output_type": "display_data",
          "data": {
            "image/png": "[encoded data removed]",
            "text/plain": [
              "<Figure size 432x288 with 1 Axes>"
            ]
          },
          "metadata": {
            "tags": [],
            "needs_background": "light"
          }
        }
      ]
    },
    {
      "cell_type": "code",
      "metadata": {
        "colab": {
          "base_uri": "https://localhost:8080/",
          "height": 136
        },
        "id": "UBlcYSWPa34m",
        "outputId": "396a4b77-da20-4d46-9cee-69589bd7574c"
      },
      "source": [
        "model = KMeans(n_clusters=2, random_state=42)\n",
        "model.fit(df)\n",
        "df['cluster'] = model.labels_\n",
        "df.groupby('cluster').mean()"
      ],
      "execution_count": null,
      "outputs": [
        {
          "output_type": "execute_result",
          "data": {
            "text/html": [
              "<div>\n",
              "<style scoped>\n",
              "    .dataframe tbody tr th:only-of-type {\n",
              "        vertical-align: middle;\n",
              "    }\n",
              "\n",
              "    .dataframe tbody tr th {\n",
              "        vertical-align: top;\n",
              "    }\n",
              "\n",
              "    .dataframe thead th {\n",
              "        text-align: right;\n",
              "    }\n",
              "</style>\n",
              "<table border=\"1\" class=\"dataframe\">\n",
              "  <thead>\n",
              "    <tr style=\"text-align: right;\">\n",
              "      <th></th>\n",
              "      <th>2015-2014</th>\n",
              "      <th>2014-2013</th>\n",
              "    </tr>\n",
              "    <tr>\n",
              "      <th>cluster</th>\n",
              "      <th></th>\n",
              "      <th></th>\n",
              "    </tr>\n",
              "  </thead>\n",
              "  <tbody>\n",
              "    <tr>\n",
              "      <th>0</th>\n",
              "      <td>83.914815</td>\n",
              "      <td>101.918519</td>\n",
              "    </tr>\n",
              "    <tr>\n",
              "      <th>1</th>\n",
              "      <td>23.250000</td>\n",
              "      <td>84.100000</td>\n",
              "    </tr>\n",
              "  </tbody>\n",
              "</table>\n",
              "</div>"
            ],
            "text/plain": [
              "         2015-2014   2014-2013\n",
              "cluster                       \n",
              "0        83.914815  101.918519\n",
              "1        23.250000   84.100000"
            ]
          },
          "metadata": {
            "tags": []
          },
          "execution_count": 48
        }
      ]
    },
    {
      "cell_type": "code",
      "metadata": {
        "colab": {
          "base_uri": "https://localhost:8080/"
        },
        "id": "Hf1OIT4Jdslo",
        "outputId": "dc56b397-f42d-459b-c448-9605ad9c9f94"
      },
      "source": [
        "arr = df['cluster'].sort_values()\n",
        "print(arr)"
      ],
      "execution_count": null,
      "outputs": [
        {
          "output_type": "stream",
          "text": [
            "0     0\n",
            "26    0\n",
            "25    0\n",
            "24    0\n",
            "23    0\n",
            "22    0\n",
            "21    0\n",
            "20    0\n",
            "19    0\n",
            "18    0\n",
            "17    0\n",
            "16    0\n",
            "15    0\n",
            "27    0\n",
            "14    0\n",
            "12    0\n",
            "11    0\n",
            "9     0\n",
            "8     0\n",
            "7     0\n",
            "6     0\n",
            "5     0\n",
            "4     0\n",
            "2     0\n",
            "1     0\n",
            "13    0\n",
            "28    0\n",
            "10    1\n",
            "3     1\n",
            "Name: cluster, dtype: int32\n"
          ],
          "name": "stdout"
        }
      ]
    },
    {
      "cell_type": "code",
      "metadata": {
        "colab": {
          "base_uri": "https://localhost:8080/"
        },
        "id": "aElHuAKveRfu",
        "outputId": "aae76a9d-4c6a-4c30-b74c-30f297f25dbc"
      },
      "source": [
        "print(df)"
      ],
      "execution_count": null,
      "outputs": [
        {
          "output_type": "stream",
          "text": [
            "    2015-2014  2014-2013  cluster\n",
            "0        85.0      103.3        0\n",
            "1        85.0       95.0        0\n",
            "2        80.1      103.7        0\n",
            "3        29.3       87.8        1\n",
            "4        87.3      101.7        0\n",
            "5        85.5      103.4        0\n",
            "6        82.1      100.8        0\n",
            "7        84.9      101.0        0\n",
            "8        86.6      104.8        0\n",
            "9        83.8      104.6        0\n",
            "10       17.2       80.4        1\n",
            "11       88.3      102.4        0\n",
            "12       78.4       96.3        0\n",
            "13       81.1      101.6        0\n",
            "14       77.6      100.5        0\n",
            "15       86.6      103.0        0\n",
            "16       81.6      103.3        0\n",
            "17       87.4      102.1        0\n",
            "18       83.0      103.0        0\n",
            "19       79.5      103.0        0\n",
            "20       80.7      100.7        0\n",
            "21       86.0      103.3        0\n",
            "22       86.8      103.6        0\n",
            "23       81.6      103.2        0\n",
            "24       86.2       98.7        0\n",
            "25       86.0      103.3        0\n",
            "26       86.8      103.6        0\n",
            "27       81.6      103.2        0\n",
            "28       86.2       98.7        0\n"
          ],
          "name": "stdout"
        }
      ]
    },
    {
      "cell_type": "code",
      "metadata": {
        "colab": {
          "base_uri": "https://localhost:8080/"
        },
        "id": "XHILln__e_hb",
        "outputId": "c5dd7838-b779-4e77-faae-7a4634e0678b"
      },
      "source": [
        "df.groupby('cluster').size()"
      ],
      "execution_count": null,
      "outputs": [
        {
          "output_type": "execute_result",
          "data": {
            "text/plain": [
              "cluster\n",
              "0    27\n",
              "1     2\n",
              "dtype: int64"
            ]
          },
          "metadata": {
            "tags": []
          },
          "execution_count": 51
        }
      ]
    },
    {
      "cell_type": "code",
      "metadata": {
        "colab": {
          "base_uri": "https://localhost:8080/",
          "height": 906
        },
        "id": "LxsJ14g7UyZR",
        "outputId": "d2bf7cb7-87ec-41f4-e918-5675ce34f969"
      },
      "source": [
        "initDf.head(52)"
      ],
      "execution_count": null,
      "outputs": [
        {
          "output_type": "execute_result",
          "data": {
            "text/html": [
              "<div>\n",
              "<style scoped>\n",
              "    .dataframe tbody tr th:only-of-type {\n",
              "        vertical-align: middle;\n",
              "    }\n",
              "\n",
              "    .dataframe tbody tr th {\n",
              "        vertical-align: top;\n",
              "    }\n",
              "\n",
              "    .dataframe thead th {\n",
              "        text-align: right;\n",
              "    }\n",
              "</style>\n",
              "<table border=\"1\" class=\"dataframe\">\n",
              "  <thead>\n",
              "    <tr style=\"text-align: right;\">\n",
              "      <th></th>\n",
              "      <th>Область</th>\n",
              "      <th>2015-2014</th>\n",
              "      <th>2014-2013</th>\n",
              "    </tr>\n",
              "  </thead>\n",
              "  <tbody>\n",
              "    <tr>\n",
              "      <th>0</th>\n",
              "      <td>Вінницька</td>\n",
              "      <td>85.0</td>\n",
              "      <td>103.3</td>\n",
              "    </tr>\n",
              "    <tr>\n",
              "      <th>1</th>\n",
              "      <td>Волинська</td>\n",
              "      <td>85.0</td>\n",
              "      <td>95.0</td>\n",
              "    </tr>\n",
              "    <tr>\n",
              "      <th>2</th>\n",
              "      <td>Дніпропетровська</td>\n",
              "      <td>80.1</td>\n",
              "      <td>103.7</td>\n",
              "    </tr>\n",
              "    <tr>\n",
              "      <th>3</th>\n",
              "      <td>Донецька2</td>\n",
              "      <td>29.3</td>\n",
              "      <td>87.8</td>\n",
              "    </tr>\n",
              "    <tr>\n",
              "      <th>4</th>\n",
              "      <td>Житомирська</td>\n",
              "      <td>87.3</td>\n",
              "      <td>101.7</td>\n",
              "    </tr>\n",
              "    <tr>\n",
              "      <th>5</th>\n",
              "      <td>Закарпатська</td>\n",
              "      <td>85.5</td>\n",
              "      <td>103.4</td>\n",
              "    </tr>\n",
              "    <tr>\n",
              "      <th>6</th>\n",
              "      <td>Запорізька</td>\n",
              "      <td>82.1</td>\n",
              "      <td>100.8</td>\n",
              "    </tr>\n",
              "    <tr>\n",
              "      <th>7</th>\n",
              "      <td>Івано-Франківська</td>\n",
              "      <td>84.9</td>\n",
              "      <td>101.0</td>\n",
              "    </tr>\n",
              "    <tr>\n",
              "      <th>8</th>\n",
              "      <td>Київська</td>\n",
              "      <td>86.6</td>\n",
              "      <td>104.8</td>\n",
              "    </tr>\n",
              "    <tr>\n",
              "      <th>9</th>\n",
              "      <td>Кіровоградська</td>\n",
              "      <td>83.8</td>\n",
              "      <td>104.6</td>\n",
              "    </tr>\n",
              "    <tr>\n",
              "      <th>10</th>\n",
              "      <td>Луганська2</td>\n",
              "      <td>17.2</td>\n",
              "      <td>80.4</td>\n",
              "    </tr>\n",
              "    <tr>\n",
              "      <th>11</th>\n",
              "      <td>Львівська</td>\n",
              "      <td>88.3</td>\n",
              "      <td>102.4</td>\n",
              "    </tr>\n",
              "    <tr>\n",
              "      <th>12</th>\n",
              "      <td>Миколаївська</td>\n",
              "      <td>78.4</td>\n",
              "      <td>96.3</td>\n",
              "    </tr>\n",
              "    <tr>\n",
              "      <th>13</th>\n",
              "      <td>Одеська</td>\n",
              "      <td>81.1</td>\n",
              "      <td>101.6</td>\n",
              "    </tr>\n",
              "    <tr>\n",
              "      <th>14</th>\n",
              "      <td>Полтавська</td>\n",
              "      <td>77.6</td>\n",
              "      <td>100.5</td>\n",
              "    </tr>\n",
              "    <tr>\n",
              "      <th>15</th>\n",
              "      <td>Рівненська</td>\n",
              "      <td>86.6</td>\n",
              "      <td>103.0</td>\n",
              "    </tr>\n",
              "    <tr>\n",
              "      <th>16</th>\n",
              "      <td>Сумська</td>\n",
              "      <td>81.6</td>\n",
              "      <td>103.3</td>\n",
              "    </tr>\n",
              "    <tr>\n",
              "      <th>17</th>\n",
              "      <td>Тернопільська</td>\n",
              "      <td>87.4</td>\n",
              "      <td>102.1</td>\n",
              "    </tr>\n",
              "    <tr>\n",
              "      <th>18</th>\n",
              "      <td>Харківська</td>\n",
              "      <td>83.0</td>\n",
              "      <td>103.0</td>\n",
              "    </tr>\n",
              "    <tr>\n",
              "      <th>19</th>\n",
              "      <td>Херсонська</td>\n",
              "      <td>79.5</td>\n",
              "      <td>103.0</td>\n",
              "    </tr>\n",
              "    <tr>\n",
              "      <th>20</th>\n",
              "      <td>Хмельницька</td>\n",
              "      <td>80.7</td>\n",
              "      <td>100.7</td>\n",
              "    </tr>\n",
              "    <tr>\n",
              "      <th>21</th>\n",
              "      <td>Черкаська</td>\n",
              "      <td>86.0</td>\n",
              "      <td>103.3</td>\n",
              "    </tr>\n",
              "    <tr>\n",
              "      <th>22</th>\n",
              "      <td>Чернівецька</td>\n",
              "      <td>86.8</td>\n",
              "      <td>103.6</td>\n",
              "    </tr>\n",
              "    <tr>\n",
              "      <th>23</th>\n",
              "      <td>Чернігівська</td>\n",
              "      <td>81.6</td>\n",
              "      <td>103.2</td>\n",
              "    </tr>\n",
              "    <tr>\n",
              "      <th>24</th>\n",
              "      <td>м. Київ</td>\n",
              "      <td>86.2</td>\n",
              "      <td>98.7</td>\n",
              "    </tr>\n",
              "    <tr>\n",
              "      <th>25</th>\n",
              "      <td>Черкаська</td>\n",
              "      <td>86.0</td>\n",
              "      <td>103.3</td>\n",
              "    </tr>\n",
              "    <tr>\n",
              "      <th>26</th>\n",
              "      <td>Чернівецька</td>\n",
              "      <td>86.8</td>\n",
              "      <td>103.6</td>\n",
              "    </tr>\n",
              "    <tr>\n",
              "      <th>27</th>\n",
              "      <td>Чернігівська</td>\n",
              "      <td>81.6</td>\n",
              "      <td>103.2</td>\n",
              "    </tr>\n",
              "    <tr>\n",
              "      <th>28</th>\n",
              "      <td>м. Київ</td>\n",
              "      <td>86.2</td>\n",
              "      <td>98.7</td>\n",
              "    </tr>\n",
              "  </tbody>\n",
              "</table>\n",
              "</div>"
            ],
            "text/plain": [
              "              Область  2015-2014  2014-2013\n",
              "0           Вінницька       85.0      103.3\n",
              "1           Волинська       85.0       95.0\n",
              "2    Дніпропетровська       80.1      103.7\n",
              "3           Донецька2       29.3       87.8\n",
              "4         Житомирська       87.3      101.7\n",
              "5        Закарпатська       85.5      103.4\n",
              "6          Запорізька       82.1      100.8\n",
              "7   Івано-Франківська       84.9      101.0\n",
              "8            Київська       86.6      104.8\n",
              "9      Кіровоградська       83.8      104.6\n",
              "10         Луганська2       17.2       80.4\n",
              "11          Львівська       88.3      102.4\n",
              "12       Миколаївська       78.4       96.3\n",
              "13            Одеська       81.1      101.6\n",
              "14         Полтавська       77.6      100.5\n",
              "15         Рівненська       86.6      103.0\n",
              "16            Сумська       81.6      103.3\n",
              "17      Тернопільська       87.4      102.1\n",
              "18         Харківська       83.0      103.0\n",
              "19         Херсонська       79.5      103.0\n",
              "20        Хмельницька       80.7      100.7\n",
              "21          Черкаська       86.0      103.3\n",
              "22        Чернівецька       86.8      103.6\n",
              "23       Чернігівська       81.6      103.2\n",
              "24            м. Київ       86.2       98.7\n",
              "25          Черкаська       86.0      103.3\n",
              "26        Чернівецька       86.8      103.6\n",
              "27       Чернігівська       81.6      103.2\n",
              "28            м. Київ       86.2       98.7"
            ]
          },
          "metadata": {
            "tags": []
          },
          "execution_count": 52
        }
      ]
    }
  ]
}